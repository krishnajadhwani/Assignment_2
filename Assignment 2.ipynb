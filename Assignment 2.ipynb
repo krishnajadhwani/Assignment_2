{
 "cells": [
  {
   "cell_type": "markdown",
   "id": "90ce419c-d045-47eb-8c99-3c534ed09704",
   "metadata": {},
   "source": [
    "Q!.which keyword is used to create a function? create a funtion to return a list of odd number in the range 1 to 25"
   ]
  },
  {
   "cell_type": "code",
   "execution_count": 2,
   "id": "a7f82af1-7609-49a0-84cb-fc730021570a",
   "metadata": {},
   "outputs": [
    {
     "name": "stdout",
     "output_type": "stream",
     "text": [
      "[1, 3, 5, 7, 9, 11, 13, 15, 17, 19, 21, 23, 25]\n"
     ]
    }
   ],
   "source": [
    "def get_odd_numbers():\n",
    "    odd_numbers = []\n",
    "    for num in range(1, 26):\n",
    "        if num % 2 != 0:\n",
    "            odd_numbers.append(num)\n",
    "    return odd_numbers\n",
    "\n",
    "# Call the function and store the result in a variable\n",
    "result_list = get_odd_numbers()\n",
    "\n",
    "# Print the list of odd numbers\n",
    "print(result_list)"
   ]
  },
  {
   "cell_type": "markdown",
   "id": "fd8507dc-adf7-438b-b4ad-6b8b0334c1d0",
   "metadata": {},
   "source": [
    "Q2. why \"arge and *kwarge is used in some functions? create a fiunction of each for \"arge\" and **kwarge to demonstrate their use?"
   ]
  },
  {
   "cell_type": "markdown",
   "id": "a07d0377-b294-4fa8-9632-df336e89cbce",
   "metadata": {},
   "source": [
    "Answer-*args:\n",
    "The *args syntax allows a function to accept a variable number of non-keyword arguments. When using *args, any extra positional arguments passed to the function will be collected into a tuple, which you can then process within the function.\n",
    "Here's an example of a function using *args to calculate the sum of multiple numbers:"
   ]
  },
  {
   "cell_type": "code",
   "execution_count": 4,
   "id": "f6e54630-3aa5-4ac6-abf0-e6529a53f505",
   "metadata": {},
   "outputs": [
    {
     "name": "stdout",
     "output_type": "stream",
     "text": [
      "15\n"
     ]
    }
   ],
   "source": [
    "def sum_numbers(*args):\n",
    "    total = 0\n",
    "    for num in args:\n",
    "        total += num\n",
    "    return total\n",
    "\n",
    "result = sum_numbers(1, 2, 3, 4, 5)\n",
    "print(result) "
   ]
  },
  {
   "cell_type": "markdown",
   "id": "d35a6080-5d55-4842-8eb2-0ffc0f169a29",
   "metadata": {},
   "source": [
    "2.**kwargs:\n",
    "The **kwargs syntax allows a function to accept a variable number of keyword arguments (i.e., named arguments). When using **kwargs, any extra keyword arguments passed to the function will be collected into a dictionary, which you can then process within the function.\n",
    "Here's an example of a function using **kwargs to display key-value pairs:"
   ]
  },
  {
   "cell_type": "code",
   "execution_count": 7,
   "id": "bb77b4e3-cc04-43f7-b7da-85c7f473f831",
   "metadata": {},
   "outputs": [],
   "source": [
    "def print_kwargs(**kwargs):\n",
    "    for key, value in kwargs.items():\n",
    "        print(f\"{key}: {value}\")\n"
   ]
  },
  {
   "cell_type": "markdown",
   "id": "532dee9d-cfca-48a9-8850-9b4739b9261e",
   "metadata": {},
   "source": [
    "Q3. what is an iterator in python? name the method use to initialise the iterator object and the method used for iteration. use these methods to print the five elements of the given list[2,4,6,8,10,12,14,16,18,20]"
   ]
  },
  {
   "cell_type": "markdown",
   "id": "b1dcd9f9-6262-434d-9007-8d966d925729",
   "metadata": {},
   "source": [
    "Answer-Iterators are used to iterate over a sequence of elements, such as lists, tuples, strings, etc. The __iter__() method initializes the iterator object, and the __next__() method is used to retrieve the next element in the sequence.\n",
    "\n",
    "To print the first five elements of the given list [2, 4, 6, 8, 10, 12, 14, 16, 18, 20], we can use the built-in iter() function to create an iterator object and then use a loop to iterate through the elements using the next() function.\n",
    "\n",
    "Here's the code to print the first five elements:"
   ]
  },
  {
   "cell_type": "code",
   "execution_count": 9,
   "id": "bb05071b-b11a-4f78-aadb-6749fb9070ae",
   "metadata": {},
   "outputs": [
    {
     "name": "stdout",
     "output_type": "stream",
     "text": [
      "2\n",
      "4\n",
      "6\n",
      "8\n",
      "10\n"
     ]
    }
   ],
   "source": [
    "# Given list\n",
    "my_list = [2, 4, 6, 8, 10, 12, 14, 16, 18, 20]\n",
    "\n",
    "# Create an iterator object using iter()\n",
    "my_iterator = iter(my_list)\n",
    "\n",
    "# Print the first five elements using the next() function in a loop\n",
    "for _ in range(5):\n",
    "    element = next(my_iterator)\n",
    "    print(element)"
   ]
  },
  {
   "cell_type": "markdown",
   "id": "d0c524bf-1630-4746-a238-83c39c9aa68e",
   "metadata": {},
   "source": [
    "Q4. what is generator function in python? why yield keyword is used? given an example of a generator function?"
   ]
  },
  {
   "cell_type": "markdown",
   "id": "91d002b2-c94d-43d7-bcd1-b481cd838af5",
   "metadata": {},
   "source": [
    "a generator function is a special type of function that returns an iterator called a generator. Unlike regular functions that use the return statement to return a value and terminate, generator functions use the yield keyword to produce a series of values while maintaining their state between successive calls. Each time the yield statement is encountered, the function's state is saved, and the value is sent to the caller. The function can then be resumed from where it left off the next time it is called.\n",
    "\n",
    "The main advantage of generator functions is that they allow you to generate a sequence of values lazily, one at a time, instead of generating the entire sequence upfront. This is particularly useful when dealing with large datasets or infinite sequences since it conserves memory and improves performance.\n",
    "\n",
    "Here's an example of a simple generator function that yields the squares of numbers from 1 to a specified limit:"
   ]
  },
  {
   "cell_type": "code",
   "execution_count": 11,
   "id": "3068ddfb-03a4-446b-939f-f4d4cda9d8cc",
   "metadata": {},
   "outputs": [
    {
     "name": "stdout",
     "output_type": "stream",
     "text": [
      "1\n",
      "4\n",
      "9\n",
      "16\n",
      "25\n"
     ]
    }
   ],
   "source": [
    "def square_generator(limit):\n",
    "    n = 1\n",
    "    while n <= limit:\n",
    "        yield n * n\n",
    "        n += 1\n",
    "\n",
    "# Create a generator object\n",
    "my_generator = square_generator(5)\n",
    "\n",
    "# Iterate and print the squares using next()\n",
    "print(next(my_generator))  # Output: 1\n",
    "print(next(my_generator))  # Output: 4\n",
    "print(next(my_generator))  # Output: 9\n",
    "print(next(my_generator))  # Output: 16\n",
    "print(next(my_generator))  # Output: 25"
   ]
  },
  {
   "cell_type": "markdown",
   "id": "2242b7f0-e667-4aaa-a669-5fd9744e186a",
   "metadata": {},
   "source": [
    "Q5. create a generator function for prime numbers less than 1000. Use the next() method tp print first 20 prime numbers?"
   ]
  },
  {
   "cell_type": "code",
   "execution_count": 14,
   "id": "b4447fc8-1c42-46be-a491-1c61da4b499d",
   "metadata": {},
   "outputs": [
    {
     "name": "stdout",
     "output_type": "stream",
     "text": [
      "2\n",
      "3\n",
      "5\n",
      "7\n",
      "11\n",
      "13\n",
      "17\n",
      "19\n",
      "23\n",
      "29\n",
      "31\n",
      "37\n",
      "41\n",
      "43\n",
      "47\n",
      "53\n",
      "59\n",
      "61\n",
      "67\n",
      "71\n"
     ]
    }
   ],
   "source": [
    "def is_prime(num):\n",
    "    if num < 2:\n",
    "        return False\n",
    "    for i in range(2, int(num ** 0.5) + 1):\n",
    "        if num % i == 0:\n",
    "            return False\n",
    "    return True\n",
    "\n",
    "def prime_generator():\n",
    "    num = 2\n",
    "    while num < 1000:\n",
    "        if is_prime(num):\n",
    "            yield num\n",
    "        num += 1\n",
    "\n",
    "# Create the generator object\n",
    "prime_gen = prime_generator()\n",
    "\n",
    "# Print the first 20 prime numbers using next()\n",
    "for _ in range(20):\n",
    "    prime_number = next(prime_gen)\n",
    "    print(prime_number)"
   ]
  },
  {
   "cell_type": "markdown",
   "id": "84c0c8a2-b1be-4850-839b-37b1a211b9ef",
   "metadata": {},
   "source": [
    "Q6. write a python program to print the first 10 Fibonocci numbers using a while loop?"
   ]
  },
  {
   "cell_type": "code",
   "execution_count": 15,
   "id": "e90de4c2-d7de-48af-b44f-f7c177570bb9",
   "metadata": {},
   "outputs": [
    {
     "name": "stdout",
     "output_type": "stream",
     "text": [
      "[0, 1, 1, 2, 3, 5, 8, 13, 21, 34]\n"
     ]
    }
   ],
   "source": [
    "def fibonacci_numbers(count):\n",
    "    fib_numbers = []\n",
    "    a, b = 0, 1\n",
    "\n",
    "    while len(fib_numbers) < count:\n",
    "        fib_numbers.append(a)\n",
    "        a, b = b, a + b\n",
    "\n",
    "    return fib_numbers\n",
    "\n",
    "# Call the function to get the first 10 Fibonacci numbers\n",
    "first_10_fibonacci = fibonacci_numbers(10)\n",
    "\n",
    "# Print the result\n",
    "print(first_10_fibonacci)"
   ]
  },
  {
   "cell_type": "markdown",
   "id": "88b9dbff-7c82-4850-aab2-f824e87ba2da",
   "metadata": {},
   "source": [
    "Q.7. Write a list Comprehension to iterate through the given string: \"pwskills\"?"
   ]
  },
  {
   "cell_type": "code",
   "execution_count": 17,
   "id": "d915737a-6d50-4960-a8d8-d6f200e6675d",
   "metadata": {},
   "outputs": [
    {
     "name": "stdout",
     "output_type": "stream",
     "text": [
      "['p', 'w', 's', 'k', 'i', 'l', 'l', 's']\n"
     ]
    }
   ],
   "source": [
    "string = \"pwskills\"\n",
    "result_list = [char for char in string]\n",
    "print(result_list)"
   ]
  },
  {
   "cell_type": "markdown",
   "id": "ca7c6757-26e8-4e3f-8402-e90b9cb5a43a",
   "metadata": {},
   "source": [
    "Q8. Write a python program to check whether a given  number is palindrome or not using while loop.?"
   ]
  },
  {
   "cell_type": "code",
   "execution_count": 18,
   "id": "333960c1-00bc-4309-a105-6ee84164cd24",
   "metadata": {},
   "outputs": [
    {
     "name": "stdin",
     "output_type": "stream",
     "text": [
      "Enter a number:  45\n"
     ]
    },
    {
     "name": "stdout",
     "output_type": "stream",
     "text": [
      "45 is not a palindrome.\n"
     ]
    }
   ],
   "source": [
    "def is_palindrome(number):\n",
    "    original_number = number\n",
    "    reverse_number = 0\n",
    "\n",
    "    while number > 0:\n",
    "        digit = number % 10\n",
    "        reverse_number = reverse_number * 10 + digit\n",
    "        number //= 10\n",
    "\n",
    "    return original_number == reverse_number\n",
    "\n",
    "# Input number to check\n",
    "num = int(input(\"Enter a number: \"))\n",
    "\n",
    "if is_palindrome(num):\n",
    "    print(f\"{num} is a palindrome.\")\n",
    "else:\n",
    "    print(f\"{num} is not a palindrome.\")\n",
    "    "
   ]
  },
  {
   "cell_type": "markdown",
   "id": "ac311179-e066-4db3-b99f-ae85c42dd0b7",
   "metadata": {},
   "source": [
    "Q9. write a code to print odd numbera from 1 to 100 using comprehension.\n",
    "Note: use a list comprehension to create a list from 1 to 100 AND use another list comprehension to filter out the odd numbers"
   ]
  },
  {
   "cell_type": "code",
   "execution_count": 19,
   "id": "44a16071-f107-4340-abd4-947eb55afbb5",
   "metadata": {},
   "outputs": [
    {
     "name": "stdout",
     "output_type": "stream",
     "text": [
      "[1, 3, 5, 7, 9, 11, 13, 15, 17, 19, 21, 23, 25, 27, 29, 31, 33, 35, 37, 39, 41, 43, 45, 47, 49, 51, 53, 55, 57, 59, 61, 63, 65, 67, 69, 71, 73, 75, 77, 79, 81, 83, 85, 87, 89, 91, 93, 95, 97, 99]\n"
     ]
    }
   ],
   "source": [
    "# List comprehension to create a list from 1 to 100\n",
    "numbers_list = [num for num in range(1, 101)]\n",
    "\n",
    "# List comprehension to filter out the odd numbers\n",
    "odd_numbers = [num for num in numbers_list if num % 2 != 0]\n",
    "\n",
    "# Print the odd numbers\n",
    "print(odd_numbers)"
   ]
  },
  {
   "cell_type": "code",
   "execution_count": null,
   "id": "19bbd0b9-b64a-4a54-b48f-4e8cf683f0a1",
   "metadata": {},
   "outputs": [],
   "source": []
  }
 ],
 "metadata": {
  "kernelspec": {
   "display_name": "Python 3 (ipykernel)",
   "language": "python",
   "name": "python3"
  },
  "language_info": {
   "codemirror_mode": {
    "name": "ipython",
    "version": 3
   },
   "file_extension": ".py",
   "mimetype": "text/x-python",
   "name": "python",
   "nbconvert_exporter": "python",
   "pygments_lexer": "ipython3",
   "version": "3.10.8"
  }
 },
 "nbformat": 4,
 "nbformat_minor": 5
}
